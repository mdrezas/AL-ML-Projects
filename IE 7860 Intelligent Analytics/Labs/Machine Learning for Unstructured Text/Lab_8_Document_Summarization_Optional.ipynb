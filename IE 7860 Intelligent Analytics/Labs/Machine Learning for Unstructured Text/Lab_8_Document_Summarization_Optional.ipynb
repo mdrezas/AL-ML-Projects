{
  "nbformat": 4,
  "nbformat_minor": 0,
  "metadata": {
    "colab": {
      "name": "HW8_Document_Summarization_Optional.ipynb",
      "provenance": [],
      "collapsed_sections": []
    },
    "kernelspec": {
      "name": "python3",
      "display_name": "Python 3"
    }
  },
  "cells": [
    {
      "cell_type": "markdown",
      "metadata": {
        "id": "TIMsr2fPxRCr"
      },
      "source": [
        "## **Assignment - 8 (Optional): Document Summarization** \n",
        "### ID: eo9232\n",
        "### Name: Md Reza\n",
        "### IE7860 - Winter 2022"
      ]
    },
    {
      "cell_type": "code",
      "metadata": {
        "id": "Iw33Qd4NhWKY",
        "colab": {
          "base_uri": "https://localhost:8080/"
        },
        "outputId": "69261050-0b21-4f9c-d211-b28f127f5e39"
      },
      "source": [
        "# Import required libraries\n",
        "import pandas as pd\n",
        "import bs4 as bs\n",
        "import urllib.request as url\n",
        "import re\n",
        "import nltk\n",
        "nltk.download('punkt')\n",
        "nltk.download('stopwords')\n",
        "from nltk.tokenize import sent_tokenize, word_tokenize\n",
        "from nltk.corpus import stopwords\n",
        "from nltk.probability import FreqDist\n",
        "import heapq\n",
        "from string import punctuation"
      ],
      "execution_count": 1,
      "outputs": [
        {
          "output_type": "stream",
          "name": "stdout",
          "text": [
            "[nltk_data] Downloading package punkt to /root/nltk_data...\n",
            "[nltk_data]   Package punkt is already up-to-date!\n",
            "[nltk_data] Downloading package stopwords to /root/nltk_data...\n",
            "[nltk_data]   Package stopwords is already up-to-date!\n"
          ]
        }
      ]
    },
    {
      "cell_type": "markdown",
      "source": [
        "## **Scrape & Load The Article**\n",
        "#### Source: https://en.wikipedia.org/wiki/Transformer_(machine_learning_model)"
      ],
      "metadata": {
        "id": "slSrtKQ6st2x"
      }
    },
    {
      "cell_type": "code",
      "metadata": {
        "id": "QqJGxDS5heba"
      },
      "source": [
        "data_scraped = url.urlopen('https://en.wikipedia.org/wiki/Transformer_(machine_learning_model)')\n",
        "article = data_scraped.read()\n",
        "parsed_article = bs.BeautifulSoup(article,'lxml')\n",
        "paragraphs = parsed_article.find_all('p')\n",
        "\n",
        "article_text = \"\"\n",
        "\n",
        "for p in paragraphs:\n",
        "    article_text += p.text"
      ],
      "execution_count": 2,
      "outputs": []
    },
    {
      "cell_type": "code",
      "metadata": {
        "id": "yOazmqJmhvC7",
        "colab": {
          "base_uri": "https://localhost:8080/",
          "height": 87
        },
        "outputId": "7550e9b8-ded7-46f4-9034-6c1abe6d75c8"
      },
      "source": [
        "article_text"
      ],
      "execution_count": 3,
      "outputs": [
        {
          "output_type": "execute_result",
          "data": {
            "text/plain": [
              "'A transformer is a deep learning model that adopts the mechanism of self-attention, differentially weighting the significance of each part of the input data. It is used primarily in the fields of natural language processing (NLP)[1] and computer vision (CV).[2]\\nLike recurrent neural networks (RNNs), transformers are designed to handle sequential input data, such as natural language, for tasks such as translation and text summarization. However, unlike RNNs, transformers do not necessarily process the data in order. Rather, the attention mechanism provides context for any position in the input sequence. For example, if the input data is a natural language sentence, the transformer does not need to process the beginning of the sentence before the end. Rather it identifies the context that confers meaning to each word in the sentence. This feature allows for more parallelization than RNNs and therefore reduces training times.[1]\\nTransformers were introduced in 2017 by a team at Google Brain[1] and are increasingly the model of choice for NLP problems,[3] replacing RNN models such as long short-term memory (LSTM). The additional training parallelization allows training on larger datasets than was once possible. This led to the development of pretrained systems such as BERT (Bidirectional Encoder Representations from Transformers) and GPT (Generative Pre-trained Transformer), which were trained with large language datasets, such as the Wikipedia Corpus and Common Crawl, and can be fine-tuned for specific tasks.[4][5]\\nBefore transformers, most state-of-the-art NLP systems relied on gated RNNs, such as LSTM and gated recurrent units (GRUs), with added attention mechanisms. Transformers are built on these attention technologies without using an RNN structure, highlighting the fact that attention mechanisms alone can match the performance of RNNs with attention.\\nGated RNNs process tokens sequentially, maintaining a state vector that contains a representation of the data seen after every token. To process the \\n\\n\\n\\nn\\n\\n\\n{\\\\textstyle n}\\n\\nth token, the model combines the state representing the sentence up to token \\n\\n\\n\\nn\\n−\\n1\\n\\n\\n{\\\\textstyle n-1}\\n\\n with the information of the new token to create a new state, representing the sentence up to token \\n\\n\\n\\nn\\n\\n\\n{\\\\textstyle n}\\n\\n. Theoretically, the information from one token can propagate arbitrarily far down the sequence, if at every point the state continues to encode contextual information about the token. In practice this mechanism is flawed: the vanishing gradient problem leaves the model\\'s state at the end of a long sentence without precise, extractable information about preceding tokens.\\nThe dependency of token computations on results of previous token computations also makes it hard to parallelize computation on modern deep learning hardware. This can make the training of RNNs inefficient.\\nThese problems were addressed by attention mechanisms. Attention mechanisms let a model draw from the state at any preceding point along the sequence. The attention layer can access all previous states and weigh them according to a learned measure of relevancy, providing relevant information about far-away tokens.\\nA clear example of the value of attention is in language translation, where context is essential to assign the meaning of a word in a sentence. In an English-to-French translation system, the first word of the French output most probably depends heavily on the first few words of the English input. However, in a classic LSTM model, in order to produce the first word of the French output, the model is given only the state vector of the last English word. Theoretically, this vector can encode information about the whole English sentence, giving the model all necessary knowledge. In practice, this information is often poorly preserved by the LSTM. An attention mechanism can be added to address this problem: the decoder is given access to the state vectors of every English input word, not just the last, and can learn attention weights that dictate how much to attend to each English input state vector.\\nWhen added to RNNs, attention mechanisms increase performance. The development of the Transformer architecture revealed that attention mechanisms were powerful in themselves and that sequential recurrent processing of data was not necessary to achieve the quality gains of RNNs with attention. Transformers use an attention mechanism without an RNN, processing all tokens at the same time and calculating attention weights between them in successive layers.\\nSince the attention mechanism only uses information about other tokens from lower layers, it can be computed for all tokens in parallel, which leads to improved training speed.\\nLike earlier seq2seq models, the original Transformer model used an encoder-decoder architecture. The encoder consists of encoding layers that process the input iteratively one layer after another, while the decoder consists of decoding layers that do the same thing to the encoder\\'s output.\\nThe function of each encoder layer is to generate encodings that contain information about which parts of the inputs are relevant to each other. It passes its encodings to the next encoder layer as inputs. Each decoder layer does the opposite, taking all the encodings and using their incorporated contextual information to generate an output sequence.[6] To achieve this, each encoder and decoder layer makes use of an attention mechanism.\\nFor each input, attention weighs the relevance of every other input and draws from them to produce the output.[7] Each decoder layer has an additional attention mechanism that draws information from the outputs of previous decoders, before the decoder layer draws information from the encodings.\\nBoth the encoder and decoder layers have a feed-forward neural network for additional processing of the outputs and contain residual connections and layer normalization steps.[7]\\nThe transformer building blocks are scaled dot-product attention units. When a sentence is passed into a transformer model, attention weights are calculated between every token simultaneously. The attention unit produces embeddings for every token in context that contain information about the token itself along with a weighted combination of other relevant tokens each weighted by its attention weight.\\nFor each attention unit the transformer model learns three weight matrices; the query weights \\n\\n\\n\\n\\nW\\n\\nQ\\n\\n\\n\\n\\n{\\\\displaystyle W_{Q}}\\n\\n, the key weights \\n\\n\\n\\n\\nW\\n\\nK\\n\\n\\n\\n\\n{\\\\displaystyle W_{K}}\\n\\n, and the value weights \\n\\n\\n\\n\\nW\\n\\nV\\n\\n\\n\\n\\n{\\\\displaystyle W_{V}}\\n\\n. For each token \\n\\n\\n\\ni\\n\\n\\n{\\\\displaystyle i}\\n\\n, the input word embedding \\n\\n\\n\\n\\nx\\n\\ni\\n\\n\\n\\n\\n{\\\\displaystyle x_{i}}\\n\\n is multiplied with each of the three weight matrices to produce a query vector \\n\\n\\n\\n\\nq\\n\\ni\\n\\n\\n=\\n\\nx\\n\\ni\\n\\n\\n\\nW\\n\\nQ\\n\\n\\n\\n\\n{\\\\displaystyle q_{i}=x_{i}W_{Q}}\\n\\n, a key vector \\n\\n\\n\\n\\nk\\n\\ni\\n\\n\\n=\\n\\nx\\n\\ni\\n\\n\\n\\nW\\n\\nK\\n\\n\\n\\n\\n{\\\\displaystyle k_{i}=x_{i}W_{K}}\\n\\n, and a value vector \\n\\n\\n\\n\\nv\\n\\ni\\n\\n\\n=\\n\\nx\\n\\ni\\n\\n\\n\\nW\\n\\nV\\n\\n\\n\\n\\n{\\\\displaystyle v_{i}=x_{i}W_{V}}\\n\\n. Attention weights are calculated using the query and key vectors: the attention weight \\n\\n\\n\\n\\na\\n\\ni\\nj\\n\\n\\n\\n\\n{\\\\displaystyle a_{ij}}\\n\\n from token \\n\\n\\n\\ni\\n\\n\\n{\\\\displaystyle i}\\n\\n to token \\n\\n\\n\\nj\\n\\n\\n{\\\\displaystyle j}\\n\\n is the dot product between \\n\\n\\n\\n\\nq\\n\\ni\\n\\n\\n\\n\\n{\\\\displaystyle q_{i}}\\n\\n and \\n\\n\\n\\n\\nk\\n\\nj\\n\\n\\n\\n\\n{\\\\displaystyle k_{j}}\\n\\n. The attention weights are divided by the square root of the dimension of the key vectors, \\n\\n\\n\\n\\n\\n\\nd\\n\\nk\\n\\n\\n\\n\\n\\n\\n{\\\\displaystyle {\\\\sqrt {d_{k}}}}\\n\\n, which stabilizes gradients during training, and passed through a softmax which normalizes the weights. The fact that \\n\\n\\n\\n\\nW\\n\\nQ\\n\\n\\n\\n\\n{\\\\displaystyle W_{Q}}\\n\\n and \\n\\n\\n\\n\\nW\\n\\nK\\n\\n\\n\\n\\n{\\\\displaystyle W_{K}}\\n\\n are different matrices allows attention to be non-symmetric: if token \\n\\n\\n\\ni\\n\\n\\n{\\\\displaystyle i}\\n\\n attends to token \\n\\n\\n\\nj\\n\\n\\n{\\\\displaystyle j}\\n\\n (i.e. \\n\\n\\n\\n\\nq\\n\\ni\\n\\n\\n⋅\\n\\nk\\n\\nj\\n\\n\\n\\n\\n{\\\\displaystyle q_{i}\\\\cdot k_{j}}\\n\\n is large), this does not necessarily mean that token \\n\\n\\n\\nj\\n\\n\\n{\\\\displaystyle j}\\n\\n will attend to token \\n\\n\\n\\ni\\n\\n\\n{\\\\displaystyle i}\\n\\n (i.e. \\n\\n\\n\\n\\nq\\n\\nj\\n\\n\\n⋅\\n\\nk\\n\\ni\\n\\n\\n\\n\\n{\\\\displaystyle q_{j}\\\\cdot k_{i}}\\n\\n could be small).  The output of the attention unit for token \\n\\n\\n\\ni\\n\\n\\n{\\\\displaystyle i}\\n\\n is the weighted sum of the value vectors of all tokens, weighted by \\n\\n\\n\\n\\na\\n\\ni\\nj\\n\\n\\n\\n\\n{\\\\displaystyle a_{ij}}\\n\\n, the attention from token \\n\\n\\n\\ni\\n\\n\\n{\\\\displaystyle i}\\n\\n to each token.\\nThe attention calculation for all tokens can be expressed as one large matrix calculation using the softmax function, which is useful for training due to computational matrix operation optimizations that quickly compute matrix operations. The matrices \\n\\n\\n\\nQ\\n\\n\\n{\\\\displaystyle Q}\\n\\n, \\n\\n\\n\\nK\\n\\n\\n{\\\\displaystyle K}\\n\\n and \\n\\n\\n\\nV\\n\\n\\n{\\\\displaystyle V}\\n\\n are defined as the matrices where the \\n\\n\\n\\ni\\n\\n\\n{\\\\displaystyle i}\\n\\nth rows are vectors \\n\\n\\n\\n\\nq\\n\\ni\\n\\n\\n\\n\\n{\\\\displaystyle q_{i}}\\n\\n, \\n\\n\\n\\n\\nk\\n\\ni\\n\\n\\n\\n\\n{\\\\displaystyle k_{i}}\\n\\n, and \\n\\n\\n\\n\\nv\\n\\ni\\n\\n\\n\\n\\n{\\\\displaystyle v_{i}}\\n\\n respectively.\\n\\n\\n\\n\\n\\n\\n\\n\\n\\nAttention\\n\\n(\\nQ\\n,\\nK\\n,\\nV\\n)\\n=\\n\\nsoftmax\\n\\n\\n(\\n\\n\\n\\nQ\\n\\nK\\n\\n\\nT\\n\\n\\n\\n\\n\\n\\nd\\n\\nk\\n\\n\\n\\n\\n\\n)\\n\\nV\\n\\n\\n\\n\\n\\n\\n{\\\\displaystyle {\\\\begin{aligned}{\\\\text{Attention}}(Q,K,V)={\\\\text{softmax}}\\\\left({\\\\frac {QK^{\\\\mathrm {T} }}{\\\\sqrt {d_{k}}}}\\\\right)V\\\\end{aligned}}}\\n\\n\\nOne set of \\n\\n\\n\\n\\n(\\n\\n\\nW\\n\\nQ\\n\\n\\n,\\n\\nW\\n\\nK\\n\\n\\n,\\n\\nW\\n\\nV\\n\\n\\n\\n)\\n\\n\\n\\n{\\\\displaystyle \\\\left(W_{Q},W_{K},W_{V}\\\\right)}\\n\\n matrices is called an attention head, and each layer in a transformer model has multiple attention heads. While each attention head attends to the tokens that are relevant to each token, with multiple attention heads the model can do this for different definitions of \"relevance\". In addition the influence field representing relevance can become progressively dilated in successive layers. Many transformer attention heads encode relevance relations that are meaningful to humans. For example, attention heads can attend mostly to the next word, while others  mainly attend from verbs to their direct objects.[8] The computations for each attention head can be performed in parallel, which allows for fast processing. The outputs for the attention layer are concatenated to pass into the feed-forward neural network layers.\\nEach encoder consists of two major components: a self-attention mechanism and a feed-forward neural network. The self-attention mechanism accepts input encodings from the previous encoder and weighs their relevance to each other to generate output encodings. The feed-forward neural network further processes each output encoding individually. These output encodings are then passed to the next encoder as its input, as well as to the decoders.\\nThe first encoder takes positional information and embeddings of the input sequence as its input, rather than encodings. The positional information is necessary for the transformer to make use of the order of the sequence, because no other part of the transformer makes use of this.[1]\\nEach decoder consists of three major components: a self-attention mechanism, an attention mechanism over the encodings, and a feed-forward neural network. The decoder functions in a similar fashion to the encoder, but an additional attention mechanism is inserted which instead draws relevant information from the encodings generated by the encoders.[1][7]\\nLike the first encoder, the first decoder takes positional information and embeddings of the output sequence as its input, rather than encodings. The transformer must not use the current or future output to predict an output, so the output sequence must be partially masked to prevent this reverse information flow.[1] The last decoder is followed by a final linear transformation and softmax layer, to produce the output probabilities over the vocabulary.\\nTraining transformer-based architectures can be expensive, especially for long inputs.[9] Alternative architectures include the Reformer (which reduces the computational load from \\n\\n\\n\\nO\\n(\\n\\nN\\n\\n2\\n\\n\\n)\\n\\n\\n{\\\\displaystyle O(N^{2})}\\n\\n to \\n\\n\\n\\nO\\n(\\nN\\nln\\n\\u2061\\nN\\n)\\n\\n\\n{\\\\displaystyle O(N\\\\ln N)}\\n\\n), or models like ETC/BigBird (which can reduce it to \\n\\n\\n\\nO\\n(\\nN\\n)\\n\\n\\n{\\\\displaystyle O(N)}\\n\\n)[10] where \\n\\n\\n\\nN\\n\\n\\n{\\\\displaystyle N}\\n\\n is the length of the sequence. This is done using locality-sensitive hashing and reversible layers.[11][12]\\nA benchmark for comparing transformer architectures was introduced in late 2020.[13]\\nTransformers typically undergo semi-supervised learning involving unsupervised pretraining followed by supervised fine-tuning. Pretraining is typically done on a larger dataset than fine-tuning, due to the limited availability of labeled training data. Tasks for pretraining and fine-tuning commonly include:\\nThe transformer has had great success in natural language processing (NLP), for example the tasks of machine translation and time series prediction.[15]  Many pretrained models such as GPT-2, GPT-3, BERT, XLNet, and RoBERTa demonstrate the ability of transformers to perform a wide variety of such NLP-related tasks, and have the potential to find real-world applications.[4][5][16] These may include:\\nIn 2020, it was shown that the transformer architecture, more specifically GPT-2, could be tuned to play chess.[22] Transformers have been applied to image processing with results competitive with convolutional neural networks.[23][24]\\nThe transformer model has been implemented in standard deep learning frameworks such as TensorFlow and PyTorch.\\nTransformers is a library produced by Hugging Face that supplies transformer-based architectures and pretrained models.[3]\\n\\n'"
            ],
            "application/vnd.google.colaboratory.intrinsic+json": {
              "type": "string"
            }
          },
          "metadata": {},
          "execution_count": 3
        }
      ]
    },
    {
      "cell_type": "markdown",
      "metadata": {
        "id": "YNebVP3YzLpT"
      },
      "source": [
        "## **Text Preprocessing**\n",
        "#### Remove unwanted text & special characters"
      ]
    },
    {
      "cell_type": "code",
      "metadata": {
        "id": "72Xs4os6ihWN"
      },
      "source": [
        "article_text = re.sub(r'\\[[0-9]*\\]', ' ', article_text)\n",
        "article_text = re.sub(r'\\s+', ' ', article_text)\n",
        "formatted_article_text = re.sub('[^a-zA-Z]', ' ', article_text )\n",
        "formatted_article_text = re.sub(r'\\s+', ' ', formatted_article_text)"
      ],
      "execution_count": 4,
      "outputs": []
    },
    {
      "cell_type": "markdown",
      "metadata": {
        "id": "cdfJfCnLzZHw"
      },
      "source": [
        "####Sentences tokenization & calculate weighted frequencies\n",
        "\n"
      ]
    },
    {
      "cell_type": "code",
      "metadata": {
        "id": "aLD1Mq1Jiyar"
      },
      "source": [
        "sentence_list = nltk.sent_tokenize(article_text)\n",
        "stopwords = nltk.corpus.stopwords.words('english')\n",
        "\n",
        "word_frequencies = {}\n",
        "\n",
        "for word in nltk.word_tokenize(formatted_article_text):\n",
        "    if word not in stopwords and word not in punctuation:\n",
        "        if word not in word_frequencies.keys():\n",
        "            word_frequencies[word] = 1\n",
        "        else:\n",
        "            word_frequencies[word] += 1"
      ],
      "execution_count": 5,
      "outputs": []
    },
    {
      "cell_type": "code",
      "source": [
        "word_frequency = pd.DataFrame(word_frequencies.items(), columns=['Keyword', 'Frequency'])\n",
        "word_frequency"
      ],
      "metadata": {
        "colab": {
          "base_uri": "https://localhost:8080/",
          "height": 423
        },
        "id": "8_EllBzirM4F",
        "outputId": "2f23f79a-1ceb-43db-bd64-357df0b8b6dd"
      },
      "execution_count": 6,
      "outputs": [
        {
          "output_type": "execute_result",
          "data": {
            "text/plain": [
              "         Keyword  Frequency\n",
              "0              A          3\n",
              "1    transformer         16\n",
              "2           deep          3\n",
              "3       learning          4\n",
              "4          model         14\n",
              "..           ...        ...\n",
              "490      library          1\n",
              "491     produced          1\n",
              "492      Hugging          1\n",
              "493         Face          1\n",
              "494     supplies          1\n",
              "\n",
              "[495 rows x 2 columns]"
            ],
            "text/html": [
              "\n",
              "  <div id=\"df-de348207-b07c-4725-ad4a-e77c21b417e4\">\n",
              "    <div class=\"colab-df-container\">\n",
              "      <div>\n",
              "<style scoped>\n",
              "    .dataframe tbody tr th:only-of-type {\n",
              "        vertical-align: middle;\n",
              "    }\n",
              "\n",
              "    .dataframe tbody tr th {\n",
              "        vertical-align: top;\n",
              "    }\n",
              "\n",
              "    .dataframe thead th {\n",
              "        text-align: right;\n",
              "    }\n",
              "</style>\n",
              "<table border=\"1\" class=\"dataframe\">\n",
              "  <thead>\n",
              "    <tr style=\"text-align: right;\">\n",
              "      <th></th>\n",
              "      <th>Keyword</th>\n",
              "      <th>Frequency</th>\n",
              "    </tr>\n",
              "  </thead>\n",
              "  <tbody>\n",
              "    <tr>\n",
              "      <th>0</th>\n",
              "      <td>A</td>\n",
              "      <td>3</td>\n",
              "    </tr>\n",
              "    <tr>\n",
              "      <th>1</th>\n",
              "      <td>transformer</td>\n",
              "      <td>16</td>\n",
              "    </tr>\n",
              "    <tr>\n",
              "      <th>2</th>\n",
              "      <td>deep</td>\n",
              "      <td>3</td>\n",
              "    </tr>\n",
              "    <tr>\n",
              "      <th>3</th>\n",
              "      <td>learning</td>\n",
              "      <td>4</td>\n",
              "    </tr>\n",
              "    <tr>\n",
              "      <th>4</th>\n",
              "      <td>model</td>\n",
              "      <td>14</td>\n",
              "    </tr>\n",
              "    <tr>\n",
              "      <th>...</th>\n",
              "      <td>...</td>\n",
              "      <td>...</td>\n",
              "    </tr>\n",
              "    <tr>\n",
              "      <th>490</th>\n",
              "      <td>library</td>\n",
              "      <td>1</td>\n",
              "    </tr>\n",
              "    <tr>\n",
              "      <th>491</th>\n",
              "      <td>produced</td>\n",
              "      <td>1</td>\n",
              "    </tr>\n",
              "    <tr>\n",
              "      <th>492</th>\n",
              "      <td>Hugging</td>\n",
              "      <td>1</td>\n",
              "    </tr>\n",
              "    <tr>\n",
              "      <th>493</th>\n",
              "      <td>Face</td>\n",
              "      <td>1</td>\n",
              "    </tr>\n",
              "    <tr>\n",
              "      <th>494</th>\n",
              "      <td>supplies</td>\n",
              "      <td>1</td>\n",
              "    </tr>\n",
              "  </tbody>\n",
              "</table>\n",
              "<p>495 rows × 2 columns</p>\n",
              "</div>\n",
              "      <button class=\"colab-df-convert\" onclick=\"convertToInteractive('df-de348207-b07c-4725-ad4a-e77c21b417e4')\"\n",
              "              title=\"Convert this dataframe to an interactive table.\"\n",
              "              style=\"display:none;\">\n",
              "        \n",
              "  <svg xmlns=\"http://www.w3.org/2000/svg\" height=\"24px\"viewBox=\"0 0 24 24\"\n",
              "       width=\"24px\">\n",
              "    <path d=\"M0 0h24v24H0V0z\" fill=\"none\"/>\n",
              "    <path d=\"M18.56 5.44l.94 2.06.94-2.06 2.06-.94-2.06-.94-.94-2.06-.94 2.06-2.06.94zm-11 1L8.5 8.5l.94-2.06 2.06-.94-2.06-.94L8.5 2.5l-.94 2.06-2.06.94zm10 10l.94 2.06.94-2.06 2.06-.94-2.06-.94-.94-2.06-.94 2.06-2.06.94z\"/><path d=\"M17.41 7.96l-1.37-1.37c-.4-.4-.92-.59-1.43-.59-.52 0-1.04.2-1.43.59L10.3 9.45l-7.72 7.72c-.78.78-.78 2.05 0 2.83L4 21.41c.39.39.9.59 1.41.59.51 0 1.02-.2 1.41-.59l7.78-7.78 2.81-2.81c.8-.78.8-2.07 0-2.86zM5.41 20L4 18.59l7.72-7.72 1.47 1.35L5.41 20z\"/>\n",
              "  </svg>\n",
              "      </button>\n",
              "      \n",
              "  <style>\n",
              "    .colab-df-container {\n",
              "      display:flex;\n",
              "      flex-wrap:wrap;\n",
              "      gap: 12px;\n",
              "    }\n",
              "\n",
              "    .colab-df-convert {\n",
              "      background-color: #E8F0FE;\n",
              "      border: none;\n",
              "      border-radius: 50%;\n",
              "      cursor: pointer;\n",
              "      display: none;\n",
              "      fill: #1967D2;\n",
              "      height: 32px;\n",
              "      padding: 0 0 0 0;\n",
              "      width: 32px;\n",
              "    }\n",
              "\n",
              "    .colab-df-convert:hover {\n",
              "      background-color: #E2EBFA;\n",
              "      box-shadow: 0px 1px 2px rgba(60, 64, 67, 0.3), 0px 1px 3px 1px rgba(60, 64, 67, 0.15);\n",
              "      fill: #174EA6;\n",
              "    }\n",
              "\n",
              "    [theme=dark] .colab-df-convert {\n",
              "      background-color: #3B4455;\n",
              "      fill: #D2E3FC;\n",
              "    }\n",
              "\n",
              "    [theme=dark] .colab-df-convert:hover {\n",
              "      background-color: #434B5C;\n",
              "      box-shadow: 0px 1px 3px 1px rgba(0, 0, 0, 0.15);\n",
              "      filter: drop-shadow(0px 1px 2px rgba(0, 0, 0, 0.3));\n",
              "      fill: #FFFFFF;\n",
              "    }\n",
              "  </style>\n",
              "\n",
              "      <script>\n",
              "        const buttonEl =\n",
              "          document.querySelector('#df-de348207-b07c-4725-ad4a-e77c21b417e4 button.colab-df-convert');\n",
              "        buttonEl.style.display =\n",
              "          google.colab.kernel.accessAllowed ? 'block' : 'none';\n",
              "\n",
              "        async function convertToInteractive(key) {\n",
              "          const element = document.querySelector('#df-de348207-b07c-4725-ad4a-e77c21b417e4');\n",
              "          const dataTable =\n",
              "            await google.colab.kernel.invokeFunction('convertToInteractive',\n",
              "                                                     [key], {});\n",
              "          if (!dataTable) return;\n",
              "\n",
              "          const docLinkHtml = 'Like what you see? Visit the ' +\n",
              "            '<a target=\"_blank\" href=https://colab.research.google.com/notebooks/data_table.ipynb>data table notebook</a>'\n",
              "            + ' to learn more about interactive tables.';\n",
              "          element.innerHTML = '';\n",
              "          dataTable['output_type'] = 'display_data';\n",
              "          await google.colab.output.renderOutput(dataTable, element);\n",
              "          const docLink = document.createElement('div');\n",
              "          docLink.innerHTML = docLinkHtml;\n",
              "          element.appendChild(docLink);\n",
              "        }\n",
              "      </script>\n",
              "    </div>\n",
              "  </div>\n",
              "  "
            ]
          },
          "metadata": {},
          "execution_count": 6
        }
      ]
    },
    {
      "cell_type": "code",
      "metadata": {
        "id": "Efgx86zJpF6b"
      },
      "source": [
        "maximum_frequncy = max(word_frequencies.values())\n",
        "\n",
        "for word in word_frequencies.keys():\n",
        "    word_frequencies[word] = (word_frequencies[word]/maximum_frequncy)"
      ],
      "execution_count": 7,
      "outputs": []
    },
    {
      "cell_type": "code",
      "metadata": {
        "id": "lTEwJZ-mpRpb",
        "colab": {
          "base_uri": "https://localhost:8080/",
          "height": 423
        },
        "outputId": "65ce1096-1636-422e-fbd0-4bd1f3f6f6e2"
      },
      "source": [
        "word_weighted = pd.DataFrame(word_frequencies.items(), columns=['Keyword', 'Score'])\n",
        "word_weighted"
      ],
      "execution_count": 8,
      "outputs": [
        {
          "output_type": "execute_result",
          "data": {
            "text/plain": [
              "         Keyword     Score\n",
              "0              A  0.068182\n",
              "1    transformer  0.363636\n",
              "2           deep  0.068182\n",
              "3       learning  0.090909\n",
              "4          model  0.318182\n",
              "..           ...       ...\n",
              "490      library  0.022727\n",
              "491     produced  0.022727\n",
              "492      Hugging  0.022727\n",
              "493         Face  0.022727\n",
              "494     supplies  0.022727\n",
              "\n",
              "[495 rows x 2 columns]"
            ],
            "text/html": [
              "\n",
              "  <div id=\"df-83f7cebe-004a-4cc7-80f1-c13df02e3b0b\">\n",
              "    <div class=\"colab-df-container\">\n",
              "      <div>\n",
              "<style scoped>\n",
              "    .dataframe tbody tr th:only-of-type {\n",
              "        vertical-align: middle;\n",
              "    }\n",
              "\n",
              "    .dataframe tbody tr th {\n",
              "        vertical-align: top;\n",
              "    }\n",
              "\n",
              "    .dataframe thead th {\n",
              "        text-align: right;\n",
              "    }\n",
              "</style>\n",
              "<table border=\"1\" class=\"dataframe\">\n",
              "  <thead>\n",
              "    <tr style=\"text-align: right;\">\n",
              "      <th></th>\n",
              "      <th>Keyword</th>\n",
              "      <th>Score</th>\n",
              "    </tr>\n",
              "  </thead>\n",
              "  <tbody>\n",
              "    <tr>\n",
              "      <th>0</th>\n",
              "      <td>A</td>\n",
              "      <td>0.068182</td>\n",
              "    </tr>\n",
              "    <tr>\n",
              "      <th>1</th>\n",
              "      <td>transformer</td>\n",
              "      <td>0.363636</td>\n",
              "    </tr>\n",
              "    <tr>\n",
              "      <th>2</th>\n",
              "      <td>deep</td>\n",
              "      <td>0.068182</td>\n",
              "    </tr>\n",
              "    <tr>\n",
              "      <th>3</th>\n",
              "      <td>learning</td>\n",
              "      <td>0.090909</td>\n",
              "    </tr>\n",
              "    <tr>\n",
              "      <th>4</th>\n",
              "      <td>model</td>\n",
              "      <td>0.318182</td>\n",
              "    </tr>\n",
              "    <tr>\n",
              "      <th>...</th>\n",
              "      <td>...</td>\n",
              "      <td>...</td>\n",
              "    </tr>\n",
              "    <tr>\n",
              "      <th>490</th>\n",
              "      <td>library</td>\n",
              "      <td>0.022727</td>\n",
              "    </tr>\n",
              "    <tr>\n",
              "      <th>491</th>\n",
              "      <td>produced</td>\n",
              "      <td>0.022727</td>\n",
              "    </tr>\n",
              "    <tr>\n",
              "      <th>492</th>\n",
              "      <td>Hugging</td>\n",
              "      <td>0.022727</td>\n",
              "    </tr>\n",
              "    <tr>\n",
              "      <th>493</th>\n",
              "      <td>Face</td>\n",
              "      <td>0.022727</td>\n",
              "    </tr>\n",
              "    <tr>\n",
              "      <th>494</th>\n",
              "      <td>supplies</td>\n",
              "      <td>0.022727</td>\n",
              "    </tr>\n",
              "  </tbody>\n",
              "</table>\n",
              "<p>495 rows × 2 columns</p>\n",
              "</div>\n",
              "      <button class=\"colab-df-convert\" onclick=\"convertToInteractive('df-83f7cebe-004a-4cc7-80f1-c13df02e3b0b')\"\n",
              "              title=\"Convert this dataframe to an interactive table.\"\n",
              "              style=\"display:none;\">\n",
              "        \n",
              "  <svg xmlns=\"http://www.w3.org/2000/svg\" height=\"24px\"viewBox=\"0 0 24 24\"\n",
              "       width=\"24px\">\n",
              "    <path d=\"M0 0h24v24H0V0z\" fill=\"none\"/>\n",
              "    <path d=\"M18.56 5.44l.94 2.06.94-2.06 2.06-.94-2.06-.94-.94-2.06-.94 2.06-2.06.94zm-11 1L8.5 8.5l.94-2.06 2.06-.94-2.06-.94L8.5 2.5l-.94 2.06-2.06.94zm10 10l.94 2.06.94-2.06 2.06-.94-2.06-.94-.94-2.06-.94 2.06-2.06.94z\"/><path d=\"M17.41 7.96l-1.37-1.37c-.4-.4-.92-.59-1.43-.59-.52 0-1.04.2-1.43.59L10.3 9.45l-7.72 7.72c-.78.78-.78 2.05 0 2.83L4 21.41c.39.39.9.59 1.41.59.51 0 1.02-.2 1.41-.59l7.78-7.78 2.81-2.81c.8-.78.8-2.07 0-2.86zM5.41 20L4 18.59l7.72-7.72 1.47 1.35L5.41 20z\"/>\n",
              "  </svg>\n",
              "      </button>\n",
              "      \n",
              "  <style>\n",
              "    .colab-df-container {\n",
              "      display:flex;\n",
              "      flex-wrap:wrap;\n",
              "      gap: 12px;\n",
              "    }\n",
              "\n",
              "    .colab-df-convert {\n",
              "      background-color: #E8F0FE;\n",
              "      border: none;\n",
              "      border-radius: 50%;\n",
              "      cursor: pointer;\n",
              "      display: none;\n",
              "      fill: #1967D2;\n",
              "      height: 32px;\n",
              "      padding: 0 0 0 0;\n",
              "      width: 32px;\n",
              "    }\n",
              "\n",
              "    .colab-df-convert:hover {\n",
              "      background-color: #E2EBFA;\n",
              "      box-shadow: 0px 1px 2px rgba(60, 64, 67, 0.3), 0px 1px 3px 1px rgba(60, 64, 67, 0.15);\n",
              "      fill: #174EA6;\n",
              "    }\n",
              "\n",
              "    [theme=dark] .colab-df-convert {\n",
              "      background-color: #3B4455;\n",
              "      fill: #D2E3FC;\n",
              "    }\n",
              "\n",
              "    [theme=dark] .colab-df-convert:hover {\n",
              "      background-color: #434B5C;\n",
              "      box-shadow: 0px 1px 3px 1px rgba(0, 0, 0, 0.15);\n",
              "      filter: drop-shadow(0px 1px 2px rgba(0, 0, 0, 0.3));\n",
              "      fill: #FFFFFF;\n",
              "    }\n",
              "  </style>\n",
              "\n",
              "      <script>\n",
              "        const buttonEl =\n",
              "          document.querySelector('#df-83f7cebe-004a-4cc7-80f1-c13df02e3b0b button.colab-df-convert');\n",
              "        buttonEl.style.display =\n",
              "          google.colab.kernel.accessAllowed ? 'block' : 'none';\n",
              "\n",
              "        async function convertToInteractive(key) {\n",
              "          const element = document.querySelector('#df-83f7cebe-004a-4cc7-80f1-c13df02e3b0b');\n",
              "          const dataTable =\n",
              "            await google.colab.kernel.invokeFunction('convertToInteractive',\n",
              "                                                     [key], {});\n",
              "          if (!dataTable) return;\n",
              "\n",
              "          const docLinkHtml = 'Like what you see? Visit the ' +\n",
              "            '<a target=\"_blank\" href=https://colab.research.google.com/notebooks/data_table.ipynb>data table notebook</a>'\n",
              "            + ' to learn more about interactive tables.';\n",
              "          element.innerHTML = '';\n",
              "          dataTable['output_type'] = 'display_data';\n",
              "          await google.colab.output.renderOutput(dataTable, element);\n",
              "          const docLink = document.createElement('div');\n",
              "          docLink.innerHTML = docLinkHtml;\n",
              "          element.appendChild(docLink);\n",
              "        }\n",
              "      </script>\n",
              "    </div>\n",
              "  </div>\n",
              "  "
            ]
          },
          "metadata": {},
          "execution_count": 8
        }
      ]
    },
    {
      "cell_type": "markdown",
      "metadata": {
        "id": "Ip5afGww06no"
      },
      "source": [
        "## **Text Visualization** \n",
        "### Keywords weighted frequency distribution "
      ]
    },
    {
      "cell_type": "code",
      "metadata": {
        "id": "GxvqKzwyqUwr",
        "colab": {
          "base_uri": "https://localhost:8080/",
          "height": 328
        },
        "outputId": "f5d82f9f-ab07-4185-c2f9-36d399cc7d74"
      },
      "source": [
        "frequency_dist = nltk.FreqDist(word_frequencies)\n",
        "frequency_dist.plot(30)"
      ],
      "execution_count": 9,
      "outputs": [
        {
          "output_type": "display_data",
          "data": {
            "text/plain": [
              "<Figure size 432x288 with 1 Axes>"
            ],
            "image/png": "[encoded data removed]"
          },
          "metadata": {
            "needs_background": "light"
          }
        }
      ]
    },
    {
      "cell_type": "markdown",
      "metadata": {
        "id": "lI51xLyS03D3"
      },
      "source": [
        "## **Text Manupulation** \n",
        "#### Calculate scores of each sentence"
      ]
    },
    {
      "cell_type": "code",
      "metadata": {
        "id": "v0xfD_y3j_aG"
      },
      "source": [
        "sentence_scores = {}\n",
        "\n",
        "for sent in sentence_list:\n",
        "    for word in nltk.word_tokenize(sent.lower()):\n",
        "        if word in word_frequencies.keys():\n",
        "            if len(sent.split(' ')) < 30:\n",
        "                if sent not in sentence_scores.keys():\n",
        "                    sentence_scores[sent] = word_frequencies[word]\n",
        "                else:\n",
        "                    sentence_scores[sent] += word_frequencies[word]"
      ],
      "execution_count": 10,
      "outputs": []
    },
    {
      "cell_type": "code",
      "source": [
        "Sentence_weighted = pd.DataFrame(sentence_scores.items(), columns=['Sentence', 'Score'])\n",
        "Sentence_weighted"
      ],
      "metadata": {
        "colab": {
          "base_uri": "https://localhost:8080/",
          "height": 423
        },
        "id": "XYiv7YhDTNv7",
        "outputId": "59d3d76b-1af3-4044-9a7f-cd1ecf1db558"
      },
      "execution_count": 11,
      "outputs": [
        {
          "output_type": "execute_result",
          "data": {
            "text/plain": [
              "                                             Sentence     Score\n",
              "0   A transformer is a deep learning model that ad...  1.795455\n",
              "1   It is used primarily in the fields of natural ...  0.522727\n",
              "2   Like recurrent neural networks (RNNs), transfo...  1.500000\n",
              "3   However, unlike RNNs, transformers do not nece...  0.500000\n",
              "4   Rather, the attention mechanism provides conte...  2.045455\n",
              "..                                                ...       ...\n",
              "60  Tasks for pretraining and fine-tuning commonly...  1.409091\n",
              "61  These may include: In 2020, it was shown that ...  0.704545\n",
              "62  Transformers have been applied to image proces...  0.590909\n",
              "63  The transformer model has been implemented in ...  0.909091\n",
              "64  Transformers is a library produced by Hugging ...  0.431818\n",
              "\n",
              "[65 rows x 2 columns]"
            ],
            "text/html": [
              "\n",
              "  <div id=\"df-b75eca01-aaa9-4931-abe5-4de23df4e6db\">\n",
              "    <div class=\"colab-df-container\">\n",
              "      <div>\n",
              "<style scoped>\n",
              "    .dataframe tbody tr th:only-of-type {\n",
              "        vertical-align: middle;\n",
              "    }\n",
              "\n",
              "    .dataframe tbody tr th {\n",
              "        vertical-align: top;\n",
              "    }\n",
              "\n",
              "    .dataframe thead th {\n",
              "        text-align: right;\n",
              "    }\n",
              "</style>\n",
              "<table border=\"1\" class=\"dataframe\">\n",
              "  <thead>\n",
              "    <tr style=\"text-align: right;\">\n",
              "      <th></th>\n",
              "      <th>Sentence</th>\n",
              "      <th>Score</th>\n",
              "    </tr>\n",
              "  </thead>\n",
              "  <tbody>\n",
              "    <tr>\n",
              "      <th>0</th>\n",
              "      <td>A transformer is a deep learning model that ad...</td>\n",
              "      <td>1.795455</td>\n",
              "    </tr>\n",
              "    <tr>\n",
              "      <th>1</th>\n",
              "      <td>It is used primarily in the fields of natural ...</td>\n",
              "      <td>0.522727</td>\n",
              "    </tr>\n",
              "    <tr>\n",
              "      <th>2</th>\n",
              "      <td>Like recurrent neural networks (RNNs), transfo...</td>\n",
              "      <td>1.500000</td>\n",
              "    </tr>\n",
              "    <tr>\n",
              "      <th>3</th>\n",
              "      <td>However, unlike RNNs, transformers do not nece...</td>\n",
              "      <td>0.500000</td>\n",
              "    </tr>\n",
              "    <tr>\n",
              "      <th>4</th>\n",
              "      <td>Rather, the attention mechanism provides conte...</td>\n",
              "      <td>2.045455</td>\n",
              "    </tr>\n",
              "    <tr>\n",
              "      <th>...</th>\n",
              "      <td>...</td>\n",
              "      <td>...</td>\n",
              "    </tr>\n",
              "    <tr>\n",
              "      <th>60</th>\n",
              "      <td>Tasks for pretraining and fine-tuning commonly...</td>\n",
              "      <td>1.409091</td>\n",
              "    </tr>\n",
              "    <tr>\n",
              "      <th>61</th>\n",
              "      <td>These may include: In 2020, it was shown that ...</td>\n",
              "      <td>0.704545</td>\n",
              "    </tr>\n",
              "    <tr>\n",
              "      <th>62</th>\n",
              "      <td>Transformers have been applied to image proces...</td>\n",
              "      <td>0.590909</td>\n",
              "    </tr>\n",
              "    <tr>\n",
              "      <th>63</th>\n",
              "      <td>The transformer model has been implemented in ...</td>\n",
              "      <td>0.909091</td>\n",
              "    </tr>\n",
              "    <tr>\n",
              "      <th>64</th>\n",
              "      <td>Transformers is a library produced by Hugging ...</td>\n",
              "      <td>0.431818</td>\n",
              "    </tr>\n",
              "  </tbody>\n",
              "</table>\n",
              "<p>65 rows × 2 columns</p>\n",
              "</div>\n",
              "      <button class=\"colab-df-convert\" onclick=\"convertToInteractive('df-b75eca01-aaa9-4931-abe5-4de23df4e6db')\"\n",
              "              title=\"Convert this dataframe to an interactive table.\"\n",
              "              style=\"display:none;\">\n",
              "        \n",
              "  <svg xmlns=\"http://www.w3.org/2000/svg\" height=\"24px\"viewBox=\"0 0 24 24\"\n",
              "       width=\"24px\">\n",
              "    <path d=\"M0 0h24v24H0V0z\" fill=\"none\"/>\n",
              "    <path d=\"M18.56 5.44l.94 2.06.94-2.06 2.06-.94-2.06-.94-.94-2.06-.94 2.06-2.06.94zm-11 1L8.5 8.5l.94-2.06 2.06-.94-2.06-.94L8.5 2.5l-.94 2.06-2.06.94zm10 10l.94 2.06.94-2.06 2.06-.94-2.06-.94-.94-2.06-.94 2.06-2.06.94z\"/><path d=\"M17.41 7.96l-1.37-1.37c-.4-.4-.92-.59-1.43-.59-.52 0-1.04.2-1.43.59L10.3 9.45l-7.72 7.72c-.78.78-.78 2.05 0 2.83L4 21.41c.39.39.9.59 1.41.59.51 0 1.02-.2 1.41-.59l7.78-7.78 2.81-2.81c.8-.78.8-2.07 0-2.86zM5.41 20L4 18.59l7.72-7.72 1.47 1.35L5.41 20z\"/>\n",
              "  </svg>\n",
              "      </button>\n",
              "      \n",
              "  <style>\n",
              "    .colab-df-container {\n",
              "      display:flex;\n",
              "      flex-wrap:wrap;\n",
              "      gap: 12px;\n",
              "    }\n",
              "\n",
              "    .colab-df-convert {\n",
              "      background-color: #E8F0FE;\n",
              "      border: none;\n",
              "      border-radius: 50%;\n",
              "      cursor: pointer;\n",
              "      display: none;\n",
              "      fill: #1967D2;\n",
              "      height: 32px;\n",
              "      padding: 0 0 0 0;\n",
              "      width: 32px;\n",
              "    }\n",
              "\n",
              "    .colab-df-convert:hover {\n",
              "      background-color: #E2EBFA;\n",
              "      box-shadow: 0px 1px 2px rgba(60, 64, 67, 0.3), 0px 1px 3px 1px rgba(60, 64, 67, 0.15);\n",
              "      fill: #174EA6;\n",
              "    }\n",
              "\n",
              "    [theme=dark] .colab-df-convert {\n",
              "      background-color: #3B4455;\n",
              "      fill: #D2E3FC;\n",
              "    }\n",
              "\n",
              "    [theme=dark] .colab-df-convert:hover {\n",
              "      background-color: #434B5C;\n",
              "      box-shadow: 0px 1px 3px 1px rgba(0, 0, 0, 0.15);\n",
              "      filter: drop-shadow(0px 1px 2px rgba(0, 0, 0, 0.3));\n",
              "      fill: #FFFFFF;\n",
              "    }\n",
              "  </style>\n",
              "\n",
              "      <script>\n",
              "        const buttonEl =\n",
              "          document.querySelector('#df-b75eca01-aaa9-4931-abe5-4de23df4e6db button.colab-df-convert');\n",
              "        buttonEl.style.display =\n",
              "          google.colab.kernel.accessAllowed ? 'block' : 'none';\n",
              "\n",
              "        async function convertToInteractive(key) {\n",
              "          const element = document.querySelector('#df-b75eca01-aaa9-4931-abe5-4de23df4e6db');\n",
              "          const dataTable =\n",
              "            await google.colab.kernel.invokeFunction('convertToInteractive',\n",
              "                                                     [key], {});\n",
              "          if (!dataTable) return;\n",
              "\n",
              "          const docLinkHtml = 'Like what you see? Visit the ' +\n",
              "            '<a target=\"_blank\" href=https://colab.research.google.com/notebooks/data_table.ipynb>data table notebook</a>'\n",
              "            + ' to learn more about interactive tables.';\n",
              "          element.innerHTML = '';\n",
              "          dataTable['output_type'] = 'display_data';\n",
              "          await google.colab.output.renderOutput(dataTable, element);\n",
              "          const docLink = document.createElement('div');\n",
              "          docLink.innerHTML = docLinkHtml;\n",
              "          element.appendChild(docLink);\n",
              "        }\n",
              "      </script>\n",
              "    </div>\n",
              "  </div>\n",
              "  "
            ]
          },
          "metadata": {},
          "execution_count": 11
        }
      ]
    },
    {
      "cell_type": "markdown",
      "metadata": {
        "id": "FtT4HuGw1vK3"
      },
      "source": [
        "## **Text Summarization**\n",
        "#### Summarize the article"
      ]
    },
    {
      "cell_type": "code",
      "metadata": {
        "id": "LgdWs7xYkHw7"
      },
      "source": [
        "summary_sentences = heapq.nlargest(7, sentence_scores, key=sentence_scores.get)\n",
        "summary = ' '.join(summary_sentences)"
      ],
      "execution_count": 12,
      "outputs": []
    },
    {
      "cell_type": "code",
      "source": [
        "from textwrap import fill\n",
        "def formatItem(left, right):\n",
        "   wrapped = fill(right, width=100, subsequent_indent=' '*15)\n",
        "   return '  {0:<20}{1}'.format(left, wrapped)"
      ],
      "metadata": {
        "id": "N-ZN4cjP6zvC"
      },
      "execution_count": 13,
      "outputs": []
    },
    {
      "cell_type": "code",
      "source": [
        "print(formatItem('\\033[1m' + 'Summarized Article:' + '\\033[0m' , summary))"
      ],
      "metadata": {
        "colab": {
          "base_uri": "https://localhost:8080/"
        },
        "id": "nF9eJpiS609y",
        "outputId": "d384245c-e7a5-4dd7-e8c9-4279dcf7c319"
      },
      "execution_count": 14,
      "outputs": [
        {
          "output_type": "stream",
          "name": "stdout",
          "text": [
            "  \u001b[1mSummarized Article:\u001b[0mEach decoder layer has an additional attention mechanism that draws information from the outputs of\n",
            "               previous decoders, before the decoder layer draws information from the encodings.\n",
            "               Transformers are built on these attention technologies without using an RNN\n",
            "               structure, highlighting the fact that attention mechanisms alone can match the\n",
            "               performance of RNNs with attention. While each attention head attends to the tokens\n",
            "               that are relevant to each token, with multiple attention heads the model can do this\n",
            "               for different definitions of \"relevance\". Transformers use an attention mechanism\n",
            "               without an RNN, processing all tokens at the same time and calculating attention\n",
            "               weights between them in successive layers. q i ⋅ k j {\\displaystyle q_{i}\\cdot k_{j}}\n",
            "               is large), this does not necessarily mean that token j {\\displaystyle j} will attend\n",
            "               to token i {\\displaystyle i} (i.e. The decoder functions in a similar fashion to the\n",
            "               encoder, but an additional attention mechanism is inserted which instead draws\n",
            "               relevant information from the encodings generated by the encoders. When a sentence is\n",
            "               passed into a transformer model, attention weights are calculated between every token\n",
            "               simultaneously.\n"
          ]
        }
      ]
    }
  ]
}