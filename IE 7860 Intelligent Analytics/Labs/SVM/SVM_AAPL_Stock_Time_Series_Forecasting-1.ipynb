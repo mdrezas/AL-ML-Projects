{
 "cells": [
  {
   "cell_type": "markdown",
   "metadata": {},
   "source": [
    "## Assignment - 4: SVM - Apple Stock Price Time Series Forecasting\n",
    "### ID: eo9232\n",
    "### Name: Md Reza\n",
    "### IE7860 - Winter 2022"
   ]
  },
  {
   "cell_type": "code",
   "execution_count": 1,
   "metadata": {
    "_cell_guid": "b1076dfc-b9ad-4769-8c92-a6c4dae69d19",
    "_uuid": "8f2839f25d086af736a60e9eeb907d3b93b6e0e5"
   },
   "outputs": [],
   "source": [
    "import numpy as np\n",
    "import pandas as pd \n",
    "from pandas.plotting import register_matplotlib_converters\n",
    "from statsmodels.tsa import stattools\n",
    "import matplotlib.pyplot as plt\n",
    "from sklearn.svm import SVR\n",
    "\n",
    "from pykalman import KalmanFilter\n",
    "from sklearn.preprocessing import MinMaxScaler\n",
    "from sklearn.metrics import r2_score"
   ]
  },
  {
   "cell_type": "code",
   "execution_count": 2,
   "metadata": {
    "_cell_guid": "79c7e3d0-c299-4dcb-8224-4455121ee9b0",
    "_uuid": "d629ff2d2480ee46fbb7e2d37f6b5fab8052498a"
   },
   "outputs": [
    {
     "data": {
      "text/html": [
       "<div>\n",
       "<style scoped>\n",
       "    .dataframe tbody tr th:only-of-type {\n",
       "        vertical-align: middle;\n",
       "    }\n",
       "\n",
       "    .dataframe tbody tr th {\n",
       "        vertical-align: top;\n",
       "    }\n",
       "\n",
       "    .dataframe thead th {\n",
       "        text-align: right;\n",
       "    }\n",
       "</style>\n",
       "<table border=\"1\" class=\"dataframe\">\n",
       "  <thead>\n",
       "    <tr style=\"text-align: right;\">\n",
       "      <th></th>\n",
       "      <th>Date</th>\n",
       "      <th>Open</th>\n",
       "      <th>High</th>\n",
       "      <th>Low</th>\n",
       "      <th>Close</th>\n",
       "      <th>Volume</th>\n",
       "      <th>Adj Close</th>\n",
       "    </tr>\n",
       "  </thead>\n",
       "  <tbody>\n",
       "    <tr>\n",
       "      <th>0</th>\n",
       "      <td>1/4/2010</td>\n",
       "      <td>7.622500</td>\n",
       "      <td>7.660714</td>\n",
       "      <td>7.585000</td>\n",
       "      <td>7.643214</td>\n",
       "      <td>493729600</td>\n",
       "      <td>6.544687</td>\n",
       "    </tr>\n",
       "    <tr>\n",
       "      <th>1</th>\n",
       "      <td>1/5/2010</td>\n",
       "      <td>7.664286</td>\n",
       "      <td>7.699643</td>\n",
       "      <td>7.616071</td>\n",
       "      <td>7.656429</td>\n",
       "      <td>601904800</td>\n",
       "      <td>6.556001</td>\n",
       "    </tr>\n",
       "    <tr>\n",
       "      <th>2</th>\n",
       "      <td>1/6/2010</td>\n",
       "      <td>7.656429</td>\n",
       "      <td>7.686786</td>\n",
       "      <td>7.526786</td>\n",
       "      <td>7.534643</td>\n",
       "      <td>552160000</td>\n",
       "      <td>6.451719</td>\n",
       "    </tr>\n",
       "    <tr>\n",
       "      <th>3</th>\n",
       "      <td>1/7/2010</td>\n",
       "      <td>7.562500</td>\n",
       "      <td>7.571429</td>\n",
       "      <td>7.466071</td>\n",
       "      <td>7.520714</td>\n",
       "      <td>477131200</td>\n",
       "      <td>6.439792</td>\n",
       "    </tr>\n",
       "    <tr>\n",
       "      <th>4</th>\n",
       "      <td>1/8/2010</td>\n",
       "      <td>7.510714</td>\n",
       "      <td>7.571429</td>\n",
       "      <td>7.466429</td>\n",
       "      <td>7.570714</td>\n",
       "      <td>447610800</td>\n",
       "      <td>6.482607</td>\n",
       "    </tr>\n",
       "  </tbody>\n",
       "</table>\n",
       "</div>"
      ],
      "text/plain": [
       "       Date      Open      High       Low     Close     Volume  Adj Close\n",
       "0  1/4/2010  7.622500  7.660714  7.585000  7.643214  493729600   6.544687\n",
       "1  1/5/2010  7.664286  7.699643  7.616071  7.656429  601904800   6.556001\n",
       "2  1/6/2010  7.656429  7.686786  7.526786  7.534643  552160000   6.451719\n",
       "3  1/7/2010  7.562500  7.571429  7.466071  7.520714  477131200   6.439792\n",
       "4  1/8/2010  7.510714  7.571429  7.466429  7.570714  447610800   6.482607"
      ]
     },
     "execution_count": 2,
     "metadata": {},
     "output_type": "execute_result"
    }
   ],
   "source": [
    "# Reading the dataset\n",
    "aapl_df = pd.read_csv(r'AAPL.csv')\n",
    "aapl_df.head()"
   ]
  },
  {
   "cell_type": "markdown",
   "metadata": {},
   "source": [
    "## Data Preprocessing"
   ]
  },
  {
   "cell_type": "code",
   "execution_count": 3,
   "metadata": {},
   "outputs": [
    {
     "data": {
      "text/html": [
       "<div>\n",
       "<style scoped>\n",
       "    .dataframe tbody tr th:only-of-type {\n",
       "        vertical-align: middle;\n",
       "    }\n",
       "\n",
       "    .dataframe tbody tr th {\n",
       "        vertical-align: top;\n",
       "    }\n",
       "\n",
       "    .dataframe thead th {\n",
       "        text-align: right;\n",
       "    }\n",
       "</style>\n",
       "<table border=\"1\" class=\"dataframe\">\n",
       "  <thead>\n",
       "    <tr style=\"text-align: right;\">\n",
       "      <th></th>\n",
       "      <th>Close</th>\n",
       "    </tr>\n",
       "    <tr>\n",
       "      <th>Date</th>\n",
       "      <th></th>\n",
       "    </tr>\n",
       "  </thead>\n",
       "  <tbody>\n",
       "    <tr>\n",
       "      <th>2010-01-04</th>\n",
       "      <td>7.643214</td>\n",
       "    </tr>\n",
       "    <tr>\n",
       "      <th>2010-01-05</th>\n",
       "      <td>7.656429</td>\n",
       "    </tr>\n",
       "    <tr>\n",
       "      <th>2010-01-06</th>\n",
       "      <td>7.534643</td>\n",
       "    </tr>\n",
       "    <tr>\n",
       "      <th>2010-01-07</th>\n",
       "      <td>7.520714</td>\n",
       "    </tr>\n",
       "    <tr>\n",
       "      <th>2010-01-08</th>\n",
       "      <td>7.570714</td>\n",
       "    </tr>\n",
       "  </tbody>\n",
       "</table>\n",
       "</div>"
      ],
      "text/plain": [
       "               Close\n",
       "Date                \n",
       "2010-01-04  7.643214\n",
       "2010-01-05  7.656429\n",
       "2010-01-06  7.534643\n",
       "2010-01-07  7.520714\n",
       "2010-01-08  7.570714"
      ]
     },
     "execution_count": 3,
     "metadata": {},
     "output_type": "execute_result"
    }
   ],
   "source": [
    "# Create subset with Date & Closing value\n",
    "aapl_close = pd.DataFrame(aapl_df['Close'])\n",
    "aapl_close.index = pd.to_datetime(aapl_df['Date'])\n",
    "aapl_close.head()"
   ]
  },
  {
   "cell_type": "markdown",
   "metadata": {},
   "source": [
    "## Handling missing values"
   ]
  },
  {
   "cell_type": "code",
   "execution_count": 4,
   "metadata": {},
   "outputs": [
    {
     "data": {
      "text/plain": [
       "Close    False\n",
       "dtype: bool"
      ]
     },
     "execution_count": 4,
     "metadata": {},
     "output_type": "execute_result"
    }
   ],
   "source": [
    "aapl_close.isnull().any()"
   ]
  },
  {
   "cell_type": "markdown",
   "metadata": {},
   "source": [
    "## Data Exploration "
   ]
  },
  {
   "cell_type": "code",
   "execution_count": 5,
   "metadata": {},
   "outputs": [
    {
     "data": {
      "image/png": "[encoded data removed]",
      "text/plain": [
       "<Figure size 576x360 with 1 Axes>"
      ]
     },
     "metadata": {
      "needs_background": "light"
     },
     "output_type": "display_data"
    }
   ],
   "source": [
    "kf = KalmanFilter(transition_matrices = [1], observation_matrices = [1], initial_state_mean = 0, \n",
    "                         initial_state_covariance = 1, observation_covariance = 1,transition_covariance = 0.0001)\n",
    "mean, cov = kf.filter(aapl_df['Close'].values)\n",
    "mean, std = mean.squeeze(), np.std(cov.squeeze())\n",
    "plt.figure(figsize=(8,5))\n",
    "plt.plot(aapl_df['Close'].values - mean, 'b', lw=1.5)\n",
    "plt.xticks(range(0,aapl_df.shape[0],500),aapl_df['Date'].loc[::500],rotation=45)\n",
    "plt.title(\"Closing Price Fluctuation with Kalman Filter\", weight='bold', fontsize=16)\n",
    "plt.ylabel(\"Deviation From The Mean ($)\", weight='bold', fontsize=12)\n",
    "plt.xlabel(\"Days\", weight='bold', fontsize=12)\n",
    "plt.grid(color = 'gray', linewidth = 0.5)\n",
    "plt.show()"
   ]
  },
  {
   "cell_type": "markdown",
   "metadata": {},
   "source": [
    "##### LJung Box Test for White Noise Detection"
   ]
  },
  {
   "cell_type": "code",
   "execution_count": 6,
   "metadata": {},
   "outputs": [
    {
     "data": {
      "image/png": "[encoded data removed]",
      "text/plain": [
       "<Figure size 432x288 with 1 Axes>"
      ]
     },
     "execution_count": 6,
     "metadata": {},
     "output_type": "execute_result"
    },
    {
     "data": {
      "image/png": "[encoded data removed]",
      "text/plain": [
       "<Figure size 432x288 with 1 Axes>"
      ]
     },
     "metadata": {
      "needs_background": "light"
     },
     "output_type": "display_data"
    }
   ],
   "source": [
    "# Auto-correlation plot\n",
    "import statsmodels.graphics.tsaplots as tsa\n",
    "tsa.plot_acf(aapl_close['Close'], lags=40, alpha=0.05, title='Auto-correlation coefficients for lags 1 through 40')"
   ]
  },
  {
   "cell_type": "markdown",
   "metadata": {},
   "source": [
    "## Find The Best Regressor Input "
   ]
  },
  {
   "cell_type": "code",
   "execution_count": 7,
   "metadata": {},
   "outputs": [
    {
     "data": {
      "image/png": "[encoded data removed]",
      "text/plain": [
       "<Figure size 576x360 with 1 Axes>"
      ]
     },
     "metadata": {
      "needs_background": "light"
     },
     "output_type": "display_data"
    }
   ],
   "source": [
    "acf_djia, confint_djia, qstat_djia, pvalues_djia = stattools.acf(aapl_close, unbiased=True, nlags=60, qstat=True, fft=True, alpha = 0.05)\n",
    "plt.figure(figsize=(8, 5))\n",
    "plt.plot(pd.Series(acf_djia), color='b', linewidth=2, linestyle='dashed')\n",
    "plt.plot(55, .9, \"s\", color ='r')\n",
    "plt.title('Autocorrelation For AAPL Closing Price', weight='bold', fontsize=16)\n",
    "plt.xlabel('Lag', weight='bold', fontsize=14)\n",
    "plt.ylabel('Value', weight='bold', fontsize=14)\n",
    "plt.xticks(weight='bold', fontsize=12, rotation=45)\n",
    "plt.yticks(weight='bold', fontsize=12)\n",
    "plt.grid(color = 'gray', linewidth = 0.5)\n",
    "plt.show()"
   ]
  },
  {
   "cell_type": "markdown",
   "metadata": {},
   "source": [
    "##### From the correlation plot above, at the scale of 90% correlation, the best regressor input appeared to be 55.\n",
    "##### Therefore, this model will use the past 55 days' stock's closing price to predict the closing price of any given day."
   ]
  },
  {
   "cell_type": "markdown",
   "metadata": {},
   "source": [
    "## Data Preperation"
   ]
  },
  {
   "cell_type": "code",
   "execution_count": 8,
   "metadata": {},
   "outputs": [],
   "source": [
    "# Function to create regressor attributes\n",
    "\n",
    "def regressor_attribs(aapl_df, attribute, list_of_prev_t_instants) :\n",
    "    list_of_prev_t_instants.sort()\n",
    "    start = list_of_prev_t_instants[-1] \n",
    "    end = len(aapl_df)\n",
    "    aapl_df['datetime'] = aapl_df.index\n",
    "    aapl_df.reset_index(drop=True)\n",
    "\n",
    "    aapl_df_copy = aapl_df[start:end]\n",
    "    aapl_df_copy.reset_index(inplace=True, drop=True)\n",
    "\n",
    "    for attribute in attribute :\n",
    "            foobar = pd.DataFrame()\n",
    "\n",
    "            for prev_t in list_of_prev_t_instants :\n",
    "                new_col = pd.DataFrame(aapl_df[attribute].iloc[(start - prev_t) : (end - prev_t)])\n",
    "                new_col.reset_index(drop=True, inplace=True)\n",
    "                new_col.rename(columns={attribute : '{}_(t-{})'.format(attribute, prev_t)}, inplace=True)\n",
    "                foobar = pd.concat([foobar, new_col], sort=False, axis=1)\n",
    "\n",
    "            aapl_df_copy = pd.concat([aapl_df_copy, foobar], sort=False, axis=1)\n",
    "            \n",
    "    aapl_df_copy.set_index(['datetime'], drop=True, inplace=True)\n",
    "    return aapl_df_copy\n",
    "\n",
    "# Create regressor attributes list\n",
    "list_of_attributes = ['Close']\n",
    "list_of_prev_t_instants = []\n",
    "for i in range(1,56): #The best regressor input appeared to be 55.\n",
    "    list_of_prev_t_instants.append(i)"
   ]
  },
  {
   "cell_type": "code",
   "execution_count": 9,
   "metadata": {},
   "outputs": [
    {
     "data": {
      "text/plain": [
       "(2964, 56)"
      ]
     },
     "execution_count": 9,
     "metadata": {},
     "output_type": "execute_result"
    }
   ],
   "source": [
    "# Create a new dataset with regressor attributes to include corresponding prices of the past 55 days to predict the closing price for any given day.\n",
    "aapl_df_new = regressor_attribs(aapl_close, list_of_attributes, list_of_prev_t_instants)\n",
    "aapl_df_new.shape"
   ]
  },
  {
   "cell_type": "markdown",
   "metadata": {},
   "source": [
    "## Training & Test Split"
   ]
  },
  {
   "cell_type": "code",
   "execution_count": 10,
   "metadata": {},
   "outputs": [
    {
     "name": "stdout",
     "output_type": "stream",
     "text": [
      "Shape of training inputs: (2815, 55)\n",
      "Shape of training target: (2815,)\n",
      "Shape of test inputs: (149, 55)\n",
      "Shape of test target: (149,)\n"
     ]
    }
   ],
   "source": [
    "# Training: 90% , Validation: 5%, & Testing: 5%\n",
    "\n",
    "aapl_df_copy = aapl_df_new.reset_index(drop=True)\n",
    "df_test = aapl_df_copy.iloc[ int(np.floor(len(aapl_df_copy)*(1 - 0.05))) : ]\n",
    "df_train = aapl_df_copy.iloc[ : int(np.floor(len(aapl_df_copy)*(1 - 0.05))) ]\n",
    "\n",
    "X_train, y_train = df_train.iloc[:, 1:], df_train.iloc[:, 0]\n",
    "X_test, y_test = df_test.iloc[:, 1:], df_test.iloc[:, 0]\n",
    "\n",
    "print('Shape of training inputs:', X_train.shape)\n",
    "print('Shape of training target:', y_train.shape)\n",
    "print('Shape of test inputs:', X_test.shape)\n",
    "print('Shape of test target:', y_test.shape)"
   ]
  },
  {
   "cell_type": "markdown",
   "metadata": {},
   "source": [
    "## Normalizing/Scaling the data"
   ]
  },
  {
   "cell_type": "code",
   "execution_count": 11,
   "metadata": {},
   "outputs": [],
   "source": [
    "Target = MinMaxScaler(feature_range=(0.01, 0.99))\n",
    "Feature = MinMaxScaler(feature_range=(0.01, 0.99))\n",
    "\n",
    "X_train_s = Feature.fit_transform(np.array(X_train))\n",
    "X_test_s = Feature.fit_transform(np.array(X_test))\n",
    "\n",
    "y_train_s = Target.fit_transform(np.array(y_train).reshape(-1,1))\n",
    "y_test_s = Target.fit_transform(np.array(y_test).reshape(-1,1))"
   ]
  },
  {
   "cell_type": "markdown",
   "metadata": {},
   "source": [
    "## Building the SVM Model"
   ]
  },
  {
   "cell_type": "code",
   "execution_count": 12,
   "metadata": {},
   "outputs": [
    {
     "name": "stdout",
     "output_type": "stream",
     "text": [
      "Model Summary:\n",
      "==============\n"
     ]
    },
    {
     "data": {
      "text/plain": [
       "SVR(C=10, cache_size=200, coef0=0.0, degree=3, epsilon=0.05, gamma=0.5,\n",
       "    kernel='linear', max_iter=-1, shrinking=True, tol=0.001, verbose=False)"
      ]
     },
     "execution_count": 12,
     "metadata": {},
     "output_type": "execute_result"
    }
   ],
   "source": [
    "model = SVR(kernel='linear',\n",
    "            gamma=0.5, \n",
    "            C=10, \n",
    "            epsilon = 0.05)\n",
    "print('Model Summary:')\n",
    "print('==============')\n",
    "model"
   ]
  },
  {
   "cell_type": "markdown",
   "metadata": {},
   "source": [
    "## Model Compilation"
   ]
  },
  {
   "cell_type": "code",
   "execution_count": 13,
   "metadata": {},
   "outputs": [],
   "source": [
    "model.fit(X_train_s, y_train_s[:,0])\n",
    "y_test_pred = model.predict(X_test_s).reshape(-1,1)"
   ]
  },
  {
   "cell_type": "markdown",
   "metadata": {},
   "source": [
    "## Evaluate The SVM Model"
   ]
  },
  {
   "cell_type": "code",
   "execution_count": 14,
   "metadata": {},
   "outputs": [],
   "source": [
    "# Scaling the original predicted values\n",
    "y_test_pred = Target.inverse_transform(y_test_pred)\n",
    "y_test = Target.inverse_transform(y_test_s)"
   ]
  },
  {
   "cell_type": "code",
   "execution_count": 15,
   "metadata": {},
   "outputs": [
    {
     "data": {
      "text/html": [
       "<div>\n",
       "<style scoped>\n",
       "    .dataframe tbody tr th:only-of-type {\n",
       "        vertical-align: middle;\n",
       "    }\n",
       "\n",
       "    .dataframe tbody tr th {\n",
       "        vertical-align: top;\n",
       "    }\n",
       "\n",
       "    .dataframe thead th {\n",
       "        text-align: right;\n",
       "    }\n",
       "</style>\n",
       "<table border=\"1\" class=\"dataframe\">\n",
       "  <thead>\n",
       "    <tr style=\"text-align: right;\">\n",
       "      <th></th>\n",
       "      <th>Actual Closing Price</th>\n",
       "      <th>Predicted Closing Price</th>\n",
       "    </tr>\n",
       "  </thead>\n",
       "  <tbody>\n",
       "    <tr>\n",
       "      <th>139</th>\n",
       "      <td>179.300003</td>\n",
       "      <td>175.677832</td>\n",
       "    </tr>\n",
       "    <tr>\n",
       "      <th>140</th>\n",
       "      <td>172.259995</td>\n",
       "      <td>177.179737</td>\n",
       "    </tr>\n",
       "    <tr>\n",
       "      <th>141</th>\n",
       "      <td>171.139999</td>\n",
       "      <td>175.845423</td>\n",
       "    </tr>\n",
       "    <tr>\n",
       "      <th>142</th>\n",
       "      <td>169.750000</td>\n",
       "      <td>172.461703</td>\n",
       "    </tr>\n",
       "    <tr>\n",
       "      <th>143</th>\n",
       "      <td>172.990005</td>\n",
       "      <td>170.777691</td>\n",
       "    </tr>\n",
       "    <tr>\n",
       "      <th>144</th>\n",
       "      <td>175.639999</td>\n",
       "      <td>169.850740</td>\n",
       "    </tr>\n",
       "    <tr>\n",
       "      <th>145</th>\n",
       "      <td>176.279999</td>\n",
       "      <td>171.486360</td>\n",
       "    </tr>\n",
       "    <tr>\n",
       "      <th>146</th>\n",
       "      <td>180.330002</td>\n",
       "      <td>174.748031</td>\n",
       "    </tr>\n",
       "    <tr>\n",
       "      <th>147</th>\n",
       "      <td>179.289993</td>\n",
       "      <td>176.286156</td>\n",
       "    </tr>\n",
       "    <tr>\n",
       "      <th>148</th>\n",
       "      <td>179.380005</td>\n",
       "      <td>177.779638</td>\n",
       "    </tr>\n",
       "  </tbody>\n",
       "</table>\n",
       "</div>"
      ],
      "text/plain": [
       "     Actual Closing Price  Predicted Closing Price\n",
       "139            179.300003               175.677832\n",
       "140            172.259995               177.179737\n",
       "141            171.139999               175.845423\n",
       "142            169.750000               172.461703\n",
       "143            172.990005               170.777691\n",
       "144            175.639999               169.850740\n",
       "145            176.279999               171.486360\n",
       "146            180.330002               174.748031\n",
       "147            179.289993               176.286156\n",
       "148            179.380005               177.779638"
      ]
     },
     "execution_count": 15,
     "metadata": {},
     "output_type": "execute_result"
    }
   ],
   "source": [
    "y_actual = pd.DataFrame(y_test, columns=['Actual Closing Price'])\n",
    "y_predicted = pd.DataFrame(y_test_pred, columns=['Predicted Closing Price'])\n",
    "result = pd.concat([y_actual, y_predicted], axis =1)\n",
    "result.tail(10)"
   ]
  },
  {
   "cell_type": "code",
   "execution_count": 16,
   "metadata": {},
   "outputs": [
    {
     "data": {
      "image/png": "[encoded data removed]",
      "text/plain": [
       "<Figure size 576x360 with 1 Axes>"
      ]
     },
     "metadata": {
      "needs_background": "light"
     },
     "output_type": "display_data"
    }
   ],
   "source": [
    "plt.figure(figsize=(8,5))\n",
    "plt.plot(y_test, color = 'b', alpha = 0.6)\n",
    "plt.plot(y_test_pred, linestyle='dotted', color = 'r')\n",
    "plt.legend(['Actual','Predicted'], loc='best', prop={'size': 12})\n",
    "plt.title('Apple Stock Actual vs. Predicted Closing Prices', weight='bold', fontsize=16)\n",
    "plt.grid(color = 'gray', linewidth='0.7')\n",
    "plt.ylabel('Price', weight='bold', fontsize=12)\n",
    "plt.xlabel('Days', weight='bold', fontsize=12)\n",
    "plt.show()"
   ]
  },
  {
   "cell_type": "markdown",
   "metadata": {},
   "source": [
    "## Calculate:\n",
    "\n",
    "<ul>\n",
    "<li>R-Squared Score</li>\n",
    "<li>Mean Squared Log Error (MSLE)</li>\n",
    "<li>Mean Absolute Percentage Error (MAPE)</li>\n",
    "</ul>"
   ]
  },
  {
   "cell_type": "code",
   "execution_count": 17,
   "metadata": {},
   "outputs": [
    {
     "name": "stdout",
     "output_type": "stream",
     "text": [
      "\u001b[1;03;30;46mR-Squared Score: 0.9498 \u001b[0m\n",
      "\u001b[1;03;30;46m\n",
      "Mean Squared Log Error: 0.0003 \u001b[0m\n"
     ]
    }
   ],
   "source": [
    "from sklearn import metrics\n",
    "score = r2_score(y_test, y_test_pred)\n",
    "print('\\x1b[1;03;30;46m'+'R-Squared Score:', round(score,4), '\\x1b[0m')\n",
    "MSLE = metrics.mean_squared_log_error(y_test, y_test_pred)\n",
    "print('\\x1b[1;03;30;46m'+'\\nMean Squared Log Error:', round(MSLE,4), '\\x1b[0m')"
   ]
  },
  {
   "cell_type": "code",
   "execution_count": 18,
   "metadata": {},
   "outputs": [
    {
     "name": "stdout",
     "output_type": "stream",
     "text": [
      "\u001b[1;03;30;46mMean Absolute Percentage Error (MAPE):  1.51 %\u001b[0m\n"
     ]
    }
   ],
   "source": [
    "def mape(predictions, actuals):\n",
    "    \"\"\"Mean absolute percentage error\"\"\"\n",
    "    predictions = np.array(predictions)\n",
    "    actuals = np.array(actuals)\n",
    "    return (np.absolute(predictions - actuals) / actuals).mean()\n",
    "\n",
    "print('\\x1b[1;03;30;46m'+'Mean Absolute Percentage Error (MAPE): '\n",
    "      , round(mape(y_test_pred, y_test)*100,2), '%''\\x1b[0m')"
   ]
  }
 ],
 "metadata": {
  "kernelspec": {
   "display_name": "Python 3",
   "language": "python",
   "name": "python3"
  },
  "language_info": {
   "codemirror_mode": {
    "name": "ipython",
    "version": 3
   },
   "file_extension": ".py",
   "mimetype": "text/x-python",
   "name": "python",
   "nbconvert_exporter": "python",
   "pygments_lexer": "ipython3",
   "version": "3.6.8"
  }
 },
 "nbformat": 4,
 "nbformat_minor": 4
}
