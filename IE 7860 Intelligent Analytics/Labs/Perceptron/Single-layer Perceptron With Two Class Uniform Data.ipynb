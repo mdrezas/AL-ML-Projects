{
 "cells": [
  {
   "cell_type": "markdown",
   "metadata": {},
   "source": [
    "## Assignment-1: Single-layer Perceptron (Two_Class_Uniform_Data)\n",
    "### ID: eo9232\n",
    "### Name: Md Reza\n",
    "### IE7860 - Winter 2022"
   ]
  },
  {
   "cell_type": "code",
   "execution_count": 1,
   "metadata": {},
   "outputs": [],
   "source": [
    "# Import requires packages and libraries\n",
    "import numpy as np\n",
    "import pandas as pd\n",
    "import matplotlib.pyplot as plt"
   ]
  },
  {
   "cell_type": "markdown",
   "metadata": {},
   "source": [
    "##### Perceptron Learning Algorithm"
   ]
  },
  {
   "cell_type": "code",
   "execution_count": 2,
   "metadata": {},
   "outputs": [],
   "source": [
    "class Perceptron:\n",
    "    learning_rate: float\n",
    "    num_iterations: int\n",
    "    weight: np.array\n",
    "    bias: np.array\n",
    "\n",
    "    def __init__(self, learning_rate, num_iterations) -> None:\n",
    "        \"\"\"Initialize a new Perceptron with the provided\n",
    "        weights, bias, learning rate, and iteration\n",
    "        \"\"\"\n",
    "        self.learning_rate = learning_rate\n",
    "        self.num_iterations = num_iterations\n",
    "        self.weight = np.array([0])\n",
    "        self.bias = np.array([0])\n",
    "        print('\\033[1m{:10s}\\033[0m'.format('Initial Weight: %s' % self.weight))\n",
    "        print('\\033[1m{:10s}\\033[0m'.format('& Bias: %s' % self.bias,'\\n'))\n",
    "\n",
    "    def net_input(self, x: np.array) -> np.array:\n",
    "        \"\"\"Activation function\n",
    "            param x: input data\n",
    "            return: activation function\n",
    "        \"\"\"\n",
    "        return np.dot(self.weight.T, x) + self.bias\n",
    "\n",
    "    def predict(self, x: np.array) -> np.array:\n",
    "        \"\"\"Calculate prediction\n",
    "            param x: input data\n",
    "            return: prediction\n",
    "        \"\"\"\n",
    "        return np.where(self.net_input(x) > 0, 1, 0)\n",
    "\n",
    "    def fit(self, x: np.array, y: np.array) -> np.array:\n",
    "        \"\"\"Fit th training data\n",
    "            :param x: input data\n",
    "            :param y: true label \n",
    "            :return: prediction after training the data\n",
    "        \"\"\"\n",
    "        m = x.shape[1]\n",
    "        y_pred = np.array\n",
    "        self.weight = np.random.randn(x.shape[0], 1)*0.01\n",
    "        self.bias = np.zeros((1, 1))\n",
    "\n",
    "        for i in range(self.num_iterations):\n",
    "            y_pred = self.predict(x)\n",
    "\n",
    "            dw = (1/m)*np.dot(x, (y_pred-y).T)\n",
    "            db = (1/m)*np.sum(y_pred-y)\n",
    "\n",
    "            self.weight -= self.learning_rate*dw\n",
    "            self.bias -= self.learning_rate*db     \n",
    "\n",
    "        return y_pred"
   ]
  },
  {
   "cell_type": "markdown",
   "metadata": {},
   "source": [
    "##### Load and tramsform the data"
   ]
  },
  {
   "cell_type": "code",
   "execution_count": 3,
   "metadata": {},
   "outputs": [
    {
     "data": {
      "text/html": [
       "<div>\n",
       "<style scoped>\n",
       "    .dataframe tbody tr th:only-of-type {\n",
       "        vertical-align: middle;\n",
       "    }\n",
       "\n",
       "    .dataframe tbody tr th {\n",
       "        vertical-align: top;\n",
       "    }\n",
       "\n",
       "    .dataframe thead th {\n",
       "        text-align: right;\n",
       "    }\n",
       "</style>\n",
       "<table border=\"1\" class=\"dataframe\">\n",
       "  <thead>\n",
       "    <tr style=\"text-align: right;\">\n",
       "      <th></th>\n",
       "      <th>Input One</th>\n",
       "      <th>Input Two</th>\n",
       "      <th>Target</th>\n",
       "    </tr>\n",
       "  </thead>\n",
       "  <tbody>\n",
       "    <tr>\n",
       "      <th>1</th>\n",
       "      <td>0.9936</td>\n",
       "      <td>0.9790</td>\n",
       "      <td>0</td>\n",
       "    </tr>\n",
       "    <tr>\n",
       "      <th>2</th>\n",
       "      <td>0.9126</td>\n",
       "      <td>0.7843</td>\n",
       "      <td>0</td>\n",
       "    </tr>\n",
       "    <tr>\n",
       "      <th>3</th>\n",
       "      <td>1.4803</td>\n",
       "      <td>0.5669</td>\n",
       "      <td>0</td>\n",
       "    </tr>\n",
       "    <tr>\n",
       "      <th>4</th>\n",
       "      <td>1.0470</td>\n",
       "      <td>1.2944</td>\n",
       "      <td>0</td>\n",
       "    </tr>\n",
       "    <tr>\n",
       "      <th>...</th>\n",
       "      <td>...</td>\n",
       "      <td>...</td>\n",
       "      <td>...</td>\n",
       "    </tr>\n",
       "    <tr>\n",
       "      <th>497</th>\n",
       "      <td>2.2426</td>\n",
       "      <td>2.0791</td>\n",
       "      <td>1</td>\n",
       "    </tr>\n",
       "    <tr>\n",
       "      <th>498</th>\n",
       "      <td>1.9802</td>\n",
       "      <td>2.2789</td>\n",
       "      <td>1</td>\n",
       "    </tr>\n",
       "    <tr>\n",
       "      <th>499</th>\n",
       "      <td>1.5606</td>\n",
       "      <td>1.7928</td>\n",
       "      <td>1</td>\n",
       "    </tr>\n",
       "    <tr>\n",
       "      <th>500</th>\n",
       "      <td>1.9909</td>\n",
       "      <td>1.7229</td>\n",
       "      <td>1</td>\n",
       "    </tr>\n",
       "  </tbody>\n",
       "</table>\n",
       "<p>500 rows × 3 columns</p>\n",
       "</div>"
      ],
      "text/plain": [
       "     Input One  Input Two  Target\n",
       "1       0.9936     0.9790       0\n",
       "2       0.9126     0.7843       0\n",
       "3       1.4803     0.5669       0\n",
       "4       1.0470     1.2944       0\n",
       "..         ...        ...     ...\n",
       "497     2.2426     2.0791       1\n",
       "498     1.9802     2.2789       1\n",
       "499     1.5606     1.7928       1\n",
       "500     1.9909     1.7229       1\n",
       "\n",
       "[500 rows x 3 columns]"
      ]
     },
     "execution_count": 3,
     "metadata": {},
     "output_type": "execute_result"
    }
   ],
   "source": [
    "df = np.genfromtxt('Two_Class_Uniform_Data.txt', delimiter='')\n",
    "X, y = df[:, :2], df[:, 2]\n",
    "y = y.astype(np.int)\n",
    "pd.set_option('display.max_rows', 9)\n",
    "pd.DataFrame({'Input One': X[:, 0], 'Input Two': X[:, 1], \n",
    "              'Target': y}, \n",
    "              index=np.arange(1, len(X)+1))"
   ]
  },
  {
   "cell_type": "markdown",
   "metadata": {},
   "source": [
    "##### Data Exploration"
   ]
  },
  {
   "cell_type": "code",
   "execution_count": 4,
   "metadata": {},
   "outputs": [
    {
     "data": {
      "image/png": "[encoded data removed]",
      "text/plain": [
       "<Figure size 432x288 with 1 Axes>"
      ]
     },
     "metadata": {
      "needs_background": "light"
     },
     "output_type": "display_data"
    }
   ],
   "source": [
    "A = np.where(y == 0)\n",
    "B = np.where(y == 1)\n",
    "plt.scatter(X[A, 0], X[A, 1],\n",
    "            color='black', marker='+', label='A')\n",
    "plt.scatter(X[B, 0], X[B, 1],\n",
    "            color='red', marker='+', label='B')\n",
    "plt.title('Ground Truth')\n",
    "plt.xlabel('Input One')\n",
    "plt.ylabel('Input Two')\n",
    "plt.legend(loc='upper left')\n",
    "plt.show()"
   ]
  },
  {
   "cell_type": "markdown",
   "metadata": {},
   "source": [
    "##### Training the Perceptron Algorithm"
   ]
  },
  {
   "cell_type": "code",
   "execution_count": 5,
   "metadata": {},
   "outputs": [
    {
     "name": "stdout",
     "output_type": "stream",
     "text": [
      "\u001b[1mInitial Weight: [0]\u001b[0m\n",
      "\u001b[1m& Bias: [0]\u001b[0m\n",
      "\u001b[1m\n",
      "Prediction:[[0 0 0 0 0 0 0 0 0 0 0 0 0 0 0 0 0 0 0 0 0 0 0 0 0 0 0 0 0 0 0 0 0 0 0 0\n",
      "  0 0 0 0 0 0 0 0 0 0 0 0 0 0 0 0 0 0 0 0 0 0 0 0 0 0 0 0 0 0 0 0 0 0 0 0\n",
      "  0 0 0 0 0 0 0 0 0 0 0 0 0 0 0 0 0 0 0 0 0 0 0 0 0 0 0 0 0 0 0 0 0 0 0 0\n",
      "  0 0 0 0 0 0 0 0 0 0 0 0 0 0 0 0 0 0 0 0 0 0 0 0 0 0 0 0 0 0 0 0 0 0 0 0\n",
      "  0 0 0 0 0 0 0 0 0 0 0 0 0 0 0 0 0 0 0 0 0 0 0 0 0 0 0 0 0 0 0 0 0 0 0 0\n",
      "  0 0 0 0 0 0 0 0 0 0 0 0 0 0 0 0 0 0 0 0 0 0 0 0 0 0 0 0 0 0 0 0 0 0 0 0\n",
      "  0 0 0 0 0 0 0 0 0 0 0 0 0 0 0 0 0 0 0 0 0 0 0 0 0 0 0 0 0 0 0 0 0 0 1 1\n",
      "  1 1 1 1 1 1 1 1 1 1 1 1 1 1 1 1 1 1 1 1 1 1 1 1 1 1 1 1 1 1 1 1 1 1 1 1\n",
      "  1 1 1 1 1 1 1 1 1 1 1 1 1 1 1 1 1 1 1 1 1 1 1 1 1 1 1 1 1 1 1 1 1 1 1 1\n",
      "  1 1 1 1 1 1 1 1 1 1 1 1 1 1 1 1 1 1 1 1 1 1 1 1 1 1 1 1 1 1 1 1 1 1 1 1\n",
      "  1 1 1 1 1 1 1 1 1 1 1 1 1 1 1 1 1 1 1 1 1 1 1 1 1 1 1 1 1 1 1 1 1 1 1 1\n",
      "  1 1 1 1 1 1 1 1 1 1 1 1 1 1 1 1 1 1 1 1 1 1 1 1 1 1 1 1 1 1 1 1 1 1 1 1\n",
      "  1 1 1 1 1 1 1 1 1 1 1 1 1 1 1 1 1 1 1 1 1 1 1 1 1 1 1 1 1 1 1 1 1 1 1 1\n",
      "  1 1 1 1 1 1 1 1 1 1 1 1 1 1 1 1 1 1 1 1 1 1 1 1 1 1 1 1 1 1 1 1]]\u001b[0m\n"
     ]
    }
   ],
   "source": [
    "PCN = Perceptron(learning_rate=0.3, num_iterations=100)\n",
    "y_pred = PCN.fit(X.T, y)\n",
    "print('\\033[1m{:10s}\\033[0m'.format('\\nPrediction:%s' % y_pred))"
   ]
  },
  {
   "cell_type": "code",
   "execution_count": 6,
   "metadata": {},
   "outputs": [
    {
     "name": "stdout",
     "output_type": "stream",
     "text": [
      "\u001b[1mUpdated Weights: [[0.15166786]\n",
      " [0.21163776]]\u001b[0m\n",
      "\u001b[1m\n",
      " & Bias: [[-0.5316]]\u001b[0m\n"
     ]
    }
   ],
   "source": [
    "print('\\033[1m{:10s}\\033[0m'.format('Updated Weights: %s' % PCN.weight))\n",
    "\n",
    "print('\\033[1m{:10s}\\033[0m'.format('\\n & Bias: %s' % PCN.bias))"
   ]
  },
  {
   "cell_type": "markdown",
   "metadata": {},
   "source": [
    "##### Plot the data wiith two dimension decision boundary"
   ]
  },
  {
   "cell_type": "code",
   "execution_count": 7,
   "metadata": {},
   "outputs": [
    {
     "data": {
      "image/png": "[encoded data removed]",
      "text/plain": [
       "<Figure size 432x288 with 1 Axes>"
      ]
     },
     "metadata": {
      "needs_background": "light"
     },
     "output_type": "display_data"
    },
    {
     "name": "stdout",
     "output_type": "stream",
     "text": [
      "\u001b[1mModel Accuracy: 100.0%\u001b[0m\n"
     ]
    }
   ],
   "source": [
    "x_ax = np.arange(X[:, 0].min()-.1, X[:, 0].max()+.1, 0.01)\n",
    "w1 = PCN.weight[0]\n",
    "w2 = PCN.weight[1]\n",
    "b = PCN.bias[0]\n",
    "plt.plot(x_ax, -w1*x_ax/w2 - b/w2, color='blue')\n",
    "\n",
    "A = np.where(y == 0)\n",
    "B = np.where(y == 1)\n",
    "plt.scatter(X[A, 0], X[A, 1],\n",
    "            color='black', marker='+', label='A')\n",
    "plt.scatter(X[B, 0], X[B, 1],\n",
    "            color='red', marker='+', label='B')\n",
    "plt.title('Data with linearly seperable decision boundary')\n",
    "plt.xlabel('Input One')\n",
    "plt.ylabel('Input Two')\n",
    "plt.legend(loc='upper left')\n",
    "plt.show()\n",
    "\n",
    "print('\\033[1m{:10s}\\033[0m'.format('Model Accuracy: ' + str(np.mean(y_pred == y) * 100) + '%'))"
   ]
  }
 ],
 "metadata": {
  "kernelspec": {
   "display_name": "Python 3",
   "language": "python",
   "name": "python3"
  },
  "language_info": {
   "codemirror_mode": {
    "name": "ipython",
    "version": 3
   },
   "file_extension": ".py",
   "mimetype": "text/x-python",
   "name": "python",
   "nbconvert_exporter": "python",
   "pygments_lexer": "ipython3",
   "version": "3.6.8"
  }
 },
 "nbformat": 4,
 "nbformat_minor": 2
}
